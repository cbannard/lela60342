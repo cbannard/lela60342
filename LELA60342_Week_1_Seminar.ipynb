{
  "nbformat": 4,
  "nbformat_minor": 0,
  "metadata": {
    "colab": {
      "provenance": []
    },
    "kernelspec": {
      "name": "python3",
      "display_name": "Python 3"
    },
    "language_info": {
      "name": "python"
    }
  },
  "cells": [
    {
      "cell_type": "markdown",
      "source": [
        "# LELA 60342 Research Methods in Computational and Corpus Linguistics\n",
        "## Week 1: Tensors and Operations on Tensors in PyTorch"
      ],
      "metadata": {
        "id": "6NRwL7QZL61R"
      }
    },
    {
      "cell_type": "code",
      "execution_count": null,
      "metadata": {
        "id": "kMwCBzcSL1sg"
      },
      "outputs": [],
      "source": []
    }
  ]
}