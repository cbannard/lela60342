{
 "cells": [
  {
   "cell_type": "markdown",
   "metadata": {
    "id": "mFxS1gh7-8Kh"
   },
   "source": [
    "# LELA 60342 Research Methods in Computational and Corpus Linguistics\n",
    "## Week 2\n",
    "\n",
    "First I am going to introduce you to Pandas and its use in representing linguistic datasets, to prepare you for next week's CL2. Then we'll return to working with Pytorch."
   ]
  },
  {
   "cell_type": "markdown",
   "metadata": {
    "id": "yPAwjxM2_MSz"
   },
   "source": [
    "### Pandas\n",
    "\n",
    "Pandas is a very popular library that provides data structures and powerful tools for manipulating them. It is conventionally imported as follows:\n"
   ]
  },
  {
   "cell_type": "code",
   "execution_count": 1,
   "metadata": {
    "id": "2dHJ8E1XBIhX"
   },
   "outputs": [],
   "source": [
    "import pandas as pd"
   ]
  },
  {
   "cell_type": "markdown",
   "metadata": {
    "id": "3_ec9T-DBkMH",
    "jp-MarkdownHeadingCollapsed": true
   },
   "source": [
    "### Series\n",
    "\n",
    "A Series in Pandas is a one-dimensional data structure that is somewhere between a Python list and an ordered Python Dictionary. It consists of a set of values and an associated array of data labels, called an index. We can create it from a Python list as follows:"
   ]
  },
  {
   "cell_type": "code",
   "execution_count": null,
   "metadata": {
    "id": "zee0AaLkDv2k"
   },
   "outputs": [],
   "source": [
    "s = pd.Series([10,7,1,4])"
   ]
  },
  {
   "cell_type": "markdown",
   "metadata": {
    "id": "RtGG_9Y7EGtx"
   },
   "source": [
    "A default index of sequence integers of 0 through N-1 (N being the length of the list) is added:"
   ]
  },
  {
   "cell_type": "code",
   "execution_count": null,
   "metadata": {
    "id": "X2Bd_HcbEZJK"
   },
   "outputs": [],
   "source": [
    "s"
   ]
  },
  {
   "cell_type": "markdown",
   "metadata": {
    "id": "pZakrzGpEgn-"
   },
   "source": [
    "The values and the index can be obtained separately:"
   ]
  },
  {
   "cell_type": "code",
   "execution_count": null,
   "metadata": {
    "id": "OkvVGMFWEnhH"
   },
   "outputs": [],
   "source": [
    "print(s.values)\n",
    "print(s.index)"
   ]
  },
  {
   "cell_type": "markdown",
   "metadata": {
    "id": "osddqilnEwqy"
   },
   "source": [
    "We can specify the indices when we create the object:"
   ]
  },
  {
   "cell_type": "code",
   "execution_count": null,
   "metadata": {
    "id": "4wKZLWdDEw4W"
   },
   "outputs": [],
   "source": [
    "s = pd.Series([10,7,1,4], index=[\"games\",\"starts\",\"goals\",\"assists\"])\n",
    "s"
   ]
  },
  {
   "cell_type": "markdown",
   "metadata": {
    "id": "sTue-WtKBszG"
   },
   "source": [
    "### DataFrame\n",
    "\n",
    "Based on the R data structure of the same name.\n",
    "\n",
    "Is a rectangular table of unordered columns. It has an index for both rows and columns. It is like a dictionary of Series which share the same index. The columns can be of different datatypes.\n",
    "\n",
    "One way to create a DataFrame is from a Dictionary:\n",
    "\n"
   ]
  },
  {
   "cell_type": "code",
   "execution_count": null,
   "metadata": {
    "id": "jle8ItBsJ3Q_"
   },
   "outputs": [],
   "source": [
    "info={'year':[2000,2001,2002,2001,2002,2003],\n",
    "      'population':[1.5,1.7,3.6,2.4,2.9,3.2]}\n",
    "\n",
    "df=pd.DataFrame(info,[\"Ohio\",\"Ohio\",\"Ohio\",\"Nevada\",\"Nevada\",\"Nevada\"])"
   ]
  },
  {
   "cell_type": "code",
   "execution_count": null,
   "metadata": {
    "id": "vcdCEia8K7eR"
   },
   "outputs": [],
   "source": [
    "df"
   ]
  },
  {
   "cell_type": "markdown",
   "metadata": {
    "id": "srEXmqI1Reb3"
   },
   "source": [
    "There are a number of different ways to extract subparts of the table. The recommended way is via special operators loc and iloc which allow you to select a subset of the data using labels and integers respectively. The first entry corresponds to the row and the second to the column."
   ]
  },
  {
   "cell_type": "code",
   "execution_count": null,
   "metadata": {
    "id": "Kqd7TZdQRTrW"
   },
   "outputs": [],
   "source": [
    "df.loc[\"Ohio\"]"
   ]
  },
  {
   "cell_type": "code",
   "execution_count": null,
   "metadata": {
    "id": "KsWUqBycR4Bg"
   },
   "outputs": [],
   "source": [
    "df.loc[\"Ohio\",\"population\"]"
   ]
  },
  {
   "cell_type": "code",
   "execution_count": null,
   "metadata": {
    "id": "jUd9zMTER7_J"
   },
   "outputs": [],
   "source": [
    "df.iloc[1,0]"
   ]
  },
  {
   "cell_type": "markdown",
   "metadata": {},
   "source": [
    "### Loading from files"
   ]
  },
  {
   "cell_type": "markdown",
   "metadata": {},
   "source": [
    "There are also pandas functions for loading a range of different file types into a dataframe:\n",
    "https://pandas.pydata.org/docs/reference/io.html\n",
    "\n",
    "For example the coursework data can be loaded as follows:"
   ]
  },
  {
   "cell_type": "code",
   "execution_count": 2,
   "metadata": {},
   "outputs": [
    {
     "name": "stdout",
     "output_type": "stream",
     "text": [
      "--2025-02-07 07:39:55--  https://raw.githubusercontent.com/cbannard/lela60331_24-25/refs/heads/main/coursework/Compiled_Reviews.txt\n",
      "Resolving raw.githubusercontent.com (raw.githubusercontent.com)... 185.199.109.133, 185.199.108.133, 185.199.111.133, ...\n",
      "Connecting to raw.githubusercontent.com (raw.githubusercontent.com)|185.199.109.133|:443... connected.\n",
      "HTTP request sent, awaiting response... 200 OK\n",
      "Length: 22322605 (21M) [text/plain]\n",
      "Saving to: ‘Compiled_Reviews.txt’\n",
      "\n",
      "Compiled_Reviews.tx 100%[===================>]  21.29M  4.06MB/s    in 5.4s    \n",
      "\n",
      "2025-02-07 07:40:01 (3.94 MB/s) - ‘Compiled_Reviews.txt’ saved [22322605/22322605]\n",
      "\n"
     ]
    }
   ],
   "source": [
    "!wget  https://raw.githubusercontent.com/cbannard/lela60331_24-25/refs/heads/main/coursework/Compiled_Reviews.txt"
   ]
  },
  {
   "cell_type": "code",
   "execution_count": 25,
   "metadata": {},
   "outputs": [],
   "source": [
    "reviews_df=pd.read_table(\"Compiled_Reviews.txt\")"
   ]
  },
  {
   "cell_type": "code",
   "execution_count": 26,
   "metadata": {},
   "outputs": [
    {
     "data": {
      "text/html": [
       "<div>\n",
       "<style scoped>\n",
       "    .dataframe tbody tr th:only-of-type {\n",
       "        vertical-align: middle;\n",
       "    }\n",
       "\n",
       "    .dataframe tbody tr th {\n",
       "        vertical-align: top;\n",
       "    }\n",
       "\n",
       "    .dataframe thead th {\n",
       "        text-align: right;\n",
       "    }\n",
       "</style>\n",
       "<table border=\"1\" class=\"dataframe\">\n",
       "  <thead>\n",
       "    <tr style=\"text-align: right;\">\n",
       "      <th></th>\n",
       "      <th>REVIEW</th>\n",
       "      <th>RATING</th>\n",
       "      <th>PRODUCT_TYPE</th>\n",
       "      <th>HELPFUL</th>\n",
       "    </tr>\n",
       "  </thead>\n",
       "  <tbody>\n",
       "    <tr>\n",
       "      <th>0</th>\n",
       "      <td>This is a wonderful album, that evokes memorie...</td>\n",
       "      <td>positive</td>\n",
       "      <td>music</td>\n",
       "      <td>neutral</td>\n",
       "    </tr>\n",
       "    <tr>\n",
       "      <th>1</th>\n",
       "      <td>On one hand, this CD is a straight ahead instr...</td>\n",
       "      <td>positive</td>\n",
       "      <td>music</td>\n",
       "      <td>helpful</td>\n",
       "    </tr>\n",
       "    <tr>\n",
       "      <th>2</th>\n",
       "      <td>this band reminds me of the thrill i first got...</td>\n",
       "      <td>positive</td>\n",
       "      <td>music</td>\n",
       "      <td>unhelpful</td>\n",
       "    </tr>\n",
       "    <tr>\n",
       "      <th>3</th>\n",
       "      <td>Like I said I would, I finally got around to p...</td>\n",
       "      <td>positive</td>\n",
       "      <td>music</td>\n",
       "      <td>unhelpful</td>\n",
       "    </tr>\n",
       "    <tr>\n",
       "      <th>4</th>\n",
       "      <td>Ok good CD. im not suprised. Ok jaheim may not...</td>\n",
       "      <td>positive</td>\n",
       "      <td>music</td>\n",
       "      <td>neutral</td>\n",
       "    </tr>\n",
       "    <tr>\n",
       "      <th>...</th>\n",
       "      <td>...</td>\n",
       "      <td>...</td>\n",
       "      <td>...</td>\n",
       "      <td>...</td>\n",
       "    </tr>\n",
       "    <tr>\n",
       "      <th>36510</th>\n",
       "      <td>When I bought the XBox on 6-11-06 it came at a...</td>\n",
       "      <td>negative</td>\n",
       "      <td>computer and  video games</td>\n",
       "      <td>unhelpful</td>\n",
       "    </tr>\n",
       "    <tr>\n",
       "      <th>36511</th>\n",
       "      <td>This game is horrible. I rented it for 5 days ...</td>\n",
       "      <td>negative</td>\n",
       "      <td>computer and  video games</td>\n",
       "      <td>unhelpful</td>\n",
       "    </tr>\n",
       "    <tr>\n",
       "      <th>36512</th>\n",
       "      <td>Man!  What's the f#$%ing deal with companies h...</td>\n",
       "      <td>negative</td>\n",
       "      <td>computer and  video games</td>\n",
       "      <td>unhelpful</td>\n",
       "    </tr>\n",
       "    <tr>\n",
       "      <th>36513</th>\n",
       "      <td>ok, most people have more then one system, i h...</td>\n",
       "      <td>negative</td>\n",
       "      <td>computer and  video games</td>\n",
       "      <td>unhelpful</td>\n",
       "    </tr>\n",
       "    <tr>\n",
       "      <th>36514</th>\n",
       "      <td>Seriously....I was waiting quite awhile for th...</td>\n",
       "      <td>negative</td>\n",
       "      <td>computer and  video games</td>\n",
       "      <td>helpful</td>\n",
       "    </tr>\n",
       "  </tbody>\n",
       "</table>\n",
       "<p>36515 rows × 4 columns</p>\n",
       "</div>"
      ],
      "text/plain": [
       "                                                  REVIEW    RATING  \\\n",
       "0      This is a wonderful album, that evokes memorie...  positive   \n",
       "1      On one hand, this CD is a straight ahead instr...  positive   \n",
       "2      this band reminds me of the thrill i first got...  positive   \n",
       "3      Like I said I would, I finally got around to p...  positive   \n",
       "4      Ok good CD. im not suprised. Ok jaheim may not...  positive   \n",
       "...                                                  ...       ...   \n",
       "36510  When I bought the XBox on 6-11-06 it came at a...  negative   \n",
       "36511  This game is horrible. I rented it for 5 days ...  negative   \n",
       "36512  Man!  What's the f#$%ing deal with companies h...  negative   \n",
       "36513  ok, most people have more then one system, i h...  negative   \n",
       "36514  Seriously....I was waiting quite awhile for th...  negative   \n",
       "\n",
       "                    PRODUCT_TYPE    HELPFUL  \n",
       "0                          music    neutral  \n",
       "1                          music    helpful  \n",
       "2                          music  unhelpful  \n",
       "3                          music  unhelpful  \n",
       "4                          music    neutral  \n",
       "...                          ...        ...  \n",
       "36510  computer and  video games  unhelpful  \n",
       "36511  computer and  video games  unhelpful  \n",
       "36512  computer and  video games  unhelpful  \n",
       "36513  computer and  video games  unhelpful  \n",
       "36514  computer and  video games    helpful  \n",
       "\n",
       "[36515 rows x 4 columns]"
      ]
     },
     "execution_count": 26,
     "metadata": {},
     "output_type": "execute_result"
    }
   ],
   "source": [
    "reviews_df"
   ]
  },
  {
   "cell_type": "markdown",
   "metadata": {},
   "source": [
    "We can select subsets of the data based on values of specified columns:"
   ]
  },
  {
   "cell_type": "code",
   "execution_count": 23,
   "metadata": {},
   "outputs": [
    {
     "data": {
      "text/html": [
       "<div>\n",
       "<style scoped>\n",
       "    .dataframe tbody tr th:only-of-type {\n",
       "        vertical-align: middle;\n",
       "    }\n",
       "\n",
       "    .dataframe tbody tr th {\n",
       "        vertical-align: top;\n",
       "    }\n",
       "\n",
       "    .dataframe thead th {\n",
       "        text-align: right;\n",
       "    }\n",
       "</style>\n",
       "<table border=\"1\" class=\"dataframe\">\n",
       "  <thead>\n",
       "    <tr style=\"text-align: right;\">\n",
       "      <th></th>\n",
       "      <th>REVIEW</th>\n",
       "      <th>RATING</th>\n",
       "      <th>PRODUCT_TYPE</th>\n",
       "      <th>HELPFUL</th>\n",
       "    </tr>\n",
       "  </thead>\n",
       "  <tbody>\n",
       "    <tr>\n",
       "      <th>20939</th>\n",
       "      <td>I've always held the philosophy you are what y...</td>\n",
       "      <td>negative</td>\n",
       "      <td>music</td>\n",
       "      <td>unhelpful</td>\n",
       "    </tr>\n",
       "    <tr>\n",
       "      <th>20940</th>\n",
       "      <td>someone get this band a producer and put them ...</td>\n",
       "      <td>negative</td>\n",
       "      <td>music</td>\n",
       "      <td>neutral</td>\n",
       "    </tr>\n",
       "    <tr>\n",
       "      <th>20941</th>\n",
       "      <td>Tihs Album is not all that good when it came o...</td>\n",
       "      <td>negative</td>\n",
       "      <td>music</td>\n",
       "      <td>neutral</td>\n",
       "    </tr>\n",
       "    <tr>\n",
       "      <th>20942</th>\n",
       "      <td>this industry is \"goin down\"u call this an alb...</td>\n",
       "      <td>negative</td>\n",
       "      <td>music</td>\n",
       "      <td>helpful</td>\n",
       "    </tr>\n",
       "    <tr>\n",
       "      <th>20943</th>\n",
       "      <td>I'm sorry but the guy below me doesn't know mu...</td>\n",
       "      <td>negative</td>\n",
       "      <td>music</td>\n",
       "      <td>helpful</td>\n",
       "    </tr>\n",
       "    <tr>\n",
       "      <th>...</th>\n",
       "      <td>...</td>\n",
       "      <td>...</td>\n",
       "      <td>...</td>\n",
       "      <td>...</td>\n",
       "    </tr>\n",
       "    <tr>\n",
       "      <th>36510</th>\n",
       "      <td>When I bought the XBox on 6-11-06 it came at a...</td>\n",
       "      <td>negative</td>\n",
       "      <td>computer and  video games</td>\n",
       "      <td>unhelpful</td>\n",
       "    </tr>\n",
       "    <tr>\n",
       "      <th>36511</th>\n",
       "      <td>This game is horrible. I rented it for 5 days ...</td>\n",
       "      <td>negative</td>\n",
       "      <td>computer and  video games</td>\n",
       "      <td>unhelpful</td>\n",
       "    </tr>\n",
       "    <tr>\n",
       "      <th>36512</th>\n",
       "      <td>Man!  What's the f#$%ing deal with companies h...</td>\n",
       "      <td>negative</td>\n",
       "      <td>computer and  video games</td>\n",
       "      <td>unhelpful</td>\n",
       "    </tr>\n",
       "    <tr>\n",
       "      <th>36513</th>\n",
       "      <td>ok, most people have more then one system, i h...</td>\n",
       "      <td>negative</td>\n",
       "      <td>computer and  video games</td>\n",
       "      <td>unhelpful</td>\n",
       "    </tr>\n",
       "    <tr>\n",
       "      <th>36514</th>\n",
       "      <td>Seriously....I was waiting quite awhile for th...</td>\n",
       "      <td>negative</td>\n",
       "      <td>computer and  video games</td>\n",
       "      <td>helpful</td>\n",
       "    </tr>\n",
       "  </tbody>\n",
       "</table>\n",
       "<p>15576 rows × 4 columns</p>\n",
       "</div>"
      ],
      "text/plain": [
       "                                                  REVIEW    RATING  \\\n",
       "20939  I've always held the philosophy you are what y...  negative   \n",
       "20940  someone get this band a producer and put them ...  negative   \n",
       "20941  Tihs Album is not all that good when it came o...  negative   \n",
       "20942  this industry is \"goin down\"u call this an alb...  negative   \n",
       "20943  I'm sorry but the guy below me doesn't know mu...  negative   \n",
       "...                                                  ...       ...   \n",
       "36510  When I bought the XBox on 6-11-06 it came at a...  negative   \n",
       "36511  This game is horrible. I rented it for 5 days ...  negative   \n",
       "36512  Man!  What's the f#$%ing deal with companies h...  negative   \n",
       "36513  ok, most people have more then one system, i h...  negative   \n",
       "36514  Seriously....I was waiting quite awhile for th...  negative   \n",
       "\n",
       "                    PRODUCT_TYPE    HELPFUL  \n",
       "20939                      music  unhelpful  \n",
       "20940                      music    neutral  \n",
       "20941                      music    neutral  \n",
       "20942                      music    helpful  \n",
       "20943                      music    helpful  \n",
       "...                          ...        ...  \n",
       "36510  computer and  video games  unhelpful  \n",
       "36511  computer and  video games  unhelpful  \n",
       "36512  computer and  video games  unhelpful  \n",
       "36513  computer and  video games  unhelpful  \n",
       "36514  computer and  video games    helpful  \n",
       "\n",
       "[15576 rows x 4 columns]"
      ]
     },
     "execution_count": 23,
     "metadata": {},
     "output_type": "execute_result"
    }
   ],
   "source": [
    "reviews_df.loc[reviews_df['RATING'] == \"negative\"]"
   ]
  },
  {
   "cell_type": "markdown",
   "metadata": {
    "id": "pCd8xn0NMZAx"
   },
   "source": [
    "### Hierachical indexing\n",
    "\n",
    "One feature that we will find useful in representing language data is hierachical indexing. One simple way we can do this is to pass a list of lists as the index."
   ]
  },
  {
   "cell_type": "code",
   "execution_count": null,
   "metadata": {
    "id": "DuiCRW_wMRqf"
   },
   "outputs": [],
   "source": [
    "import numpy as np\n",
    "s=pd.Series(np.random.randn(16),index=[[1,1,1,1,2,2,2,2,3,3,3,3,4,4,4,4],[\"a\",\"b\",\"c\",\"d\",\"a\",\"b\",\"c\",\"d\",\"a\",\"b\",\"c\",\"d\",\"a\",\"b\",\"c\",\"d\"]])\n",
    "s"
   ]
  },
  {
   "cell_type": "markdown",
   "metadata": {
    "id": "4m_4L2YFSMnH"
   },
   "source": [
    "We can select subsets from the hierachical index as follows:"
   ]
  },
  {
   "cell_type": "code",
   "execution_count": null,
   "metadata": {
    "id": "BxA05Xc3Sk1X"
   },
   "outputs": [],
   "source": [
    "s.loc[1]"
   ]
  },
  {
   "cell_type": "code",
   "execution_count": null,
   "metadata": {
    "id": "n_AzMtoVTHDJ"
   },
   "outputs": [],
   "source": [
    "s.loc[1,\"a\"]"
   ]
  },
  {
   "cell_type": "code",
   "execution_count": null,
   "metadata": {
    "id": "qDOPuw-XTAAX"
   },
   "outputs": [],
   "source": [
    "s.loc[:,\"a\"]"
   ]
  },
  {
   "cell_type": "markdown",
   "metadata": {
    "id": "lIq1abRHBUjI"
   },
   "source": [
    "### Annotated Data"
   ]
  },
  {
   "cell_type": "markdown",
   "metadata": {
    "id": "bWFP8t2LBKjV"
   },
   "source": [
    "### CONLL-U format for Universal Dependencies\n",
    "\n",
    "Annotations are encoded in plain text files (UTF-8) with three types of lines:\n",
    "\n",
    "- Word lines containing the annotation of a word/token/node in 10 fields separated by single tab characters; see below.\n",
    "- Blank lines marking sentence boundaries. The last line of each sentence is a blank line.\n",
    "- Sentence-level comments starting with hash (#). Comment lines occur at the beginning of sentences, before word lines.\n",
    "\n",
    "Sentences consist of one or more word lines, and word lines contain the following fields:\n",
    "\n",
    "ID: Word index, integer starting at 1 for each new sentence; may be a range for multiword tokens; may be a decimal number for empty nodes (decimal numbers can be lower than 1 but must be greater than 0). \\\\\n",
    "FORM: Word form or punctuation symbol. \\\\\n",
    "LEMMA: Lemma or stem of word form. \\\\\n",
    "UPOS: Universal part-of-speech tag. \\\\\n",
    "XPOS: Optional language-specific (or treebank-specific) part-of-speech / morphological tag; underscore if not available. \\\\\n",
    "FEATS: List of morphological features from the universal feature inventory or from a defined language-specific extension; underscore if not available. \\\\\n",
    "HEAD: Head of the current word, which is either a value of ID or zero (0). \\\\\n",
    "DEPREL: Universal dependency relation to the HEAD (root iff HEAD = 0) or a defined language-specific subtype of one. \\\\\n",
    "DEPS: Enhanced dependency graph in the form of a list of head-deprel pairs. \\\\\n",
    "MISC: Any other annotation. \\\\\n"
   ]
  },
  {
   "cell_type": "code",
   "execution_count": null,
   "metadata": {
    "id": "bw-9zl1o8Z6C"
   },
   "outputs": [],
   "source": [
    "!wget https://raw.githubusercontent.com/cbannard/lela60342/refs/heads/main/sample.conllu"
   ]
  },
  {
   "cell_type": "code",
   "execution_count": null,
   "metadata": {
    "id": "r8fCBjS3AAmV"
   },
   "outputs": [],
   "source": [
    "def conllu2pandas(fname):\n",
    "    sentcount = 1\n",
    "    dat,i1,i2=[],[],[]\n",
    "    with open(fname, 'r', encoding='UTF-8') as file:\n",
    "        while line := file.readline():\n",
    "             #print(len(line))\n",
    "             #print(line)\n",
    "             if len(line) == 1:\n",
    "                sentcount += 1\n",
    "                #print(sentcount)\n",
    "             elif line[0].isdigit():\n",
    "                #print(sentcount)\n",
    "                line = line.rstrip('\\n')\n",
    "                lst=line.split(\"\\t\")\n",
    "                dat.append(lst[1:])\n",
    "                i1.append(str(sentcount))\n",
    "                i2.append(lst[0])\n",
    "    return pd.DataFrame(dat,columns=[\"FORM\",\"LEMMA\",\"UPOS\",\"XPOS\",\"FEATS\",\"HEAD\",\"DEPREL\",\"DEPS\",\"MISC\"],index=[i1,i2])\n"
   ]
  },
  {
   "cell_type": "code",
   "execution_count": null,
   "metadata": {
    "id": "DSg8RxL78Qd_"
   },
   "outputs": [],
   "source": [
    "df=conllu2pandas(\"sample.conllu\")"
   ]
  },
  {
   "cell_type": "code",
   "execution_count": null,
   "metadata": {
    "id": "oBwdDa3gXsZT"
   },
   "outputs": [],
   "source": [
    "df.head(40)"
   ]
  },
  {
   "cell_type": "markdown",
   "metadata": {
    "id": "2_9UHsj_aKZD"
   },
   "source": [
    "To select from the hierachical index in a data frame instead of passing a single label or integer to loc for the row, we pass a tuple of labels:"
   ]
  },
  {
   "cell_type": "code",
   "execution_count": null,
   "metadata": {
    "id": "gOqLwIdoaUzv"
   },
   "outputs": [],
   "source": [
    "df.loc[(\"2\",\"1\"),]"
   ]
  },
  {
   "cell_type": "code",
   "execution_count": null,
   "metadata": {
    "id": "Vrw-iV4n8bqE"
   },
   "outputs": [],
   "source": [
    "df.loc[(\"2\",\"1\"),\"FORM\"]"
   ]
  },
  {
   "cell_type": "markdown",
   "metadata": {},
   "source": [
    "For a very extensive and readable introduction to Pandas functionality see this (available free online) book by its creator:\n",
    "https://wesmckinney.com/book/\n"
   ]
  },
  {
   "cell_type": "markdown",
   "metadata": {},
   "source": [
    "### scikit-learn\n",
    "Scikit-learn is a machine learning toolkit that has implementations of a diverse range of ML methods, and you might want to use it if you are employing non-neural methods of e.g. classification. \n",
    "\n",
    "https://scikit-learn.org/stable/index.html\n",
    "\n",
    "We won't use it much for ML, but it does have some valuable utilities that can be used on Pandas objects. For example train_test_split():\n",
    "https://scikit-learn.org/stable/modules/generated/sklearn.model_selection.train_test_split.html#\n",
    "\n"
   ]
  },
  {
   "cell_type": "code",
   "execution_count": 29,
   "metadata": {},
   "outputs": [
    {
     "data": {
      "text/plain": [
       "0        This is a wonderful album, that evokes memorie...\n",
       "1        On one hand, this CD is a straight ahead instr...\n",
       "2        this band reminds me of the thrill i first got...\n",
       "3        Like I said I would, I finally got around to p...\n",
       "4        Ok good CD. im not suprised. Ok jaheim may not...\n",
       "                               ...                        \n",
       "36510    When I bought the XBox on 6-11-06 it came at a...\n",
       "36511    This game is horrible. I rented it for 5 days ...\n",
       "36512    Man!  What's the f#$%ing deal with companies h...\n",
       "36513    ok, most people have more then one system, i h...\n",
       "36514    Seriously....I was waiting quite awhile for th...\n",
       "Name: REVIEW, Length: 36515, dtype: object"
      ]
     },
     "execution_count": 29,
     "metadata": {},
     "output_type": "execute_result"
    }
   ],
   "source": [
    "reviews_df.loc[:,\"REVIEW\"]"
   ]
  },
  {
   "cell_type": "code",
   "execution_count": 33,
   "metadata": {},
   "outputs": [],
   "source": [
    "from sklearn.model_selection import train_test_split\n",
    "X=reviews_df.loc[:,\"REVIEW\"]\n",
    "y=reviews_df.loc[:,\"RATING\"]\n",
    "X_train, X_val_test, y_train, y_val_test = train_test_split(X, y, test_size=0.2, random_state=30)\n",
    "X_val, X_test, y_val, y_test = train_test_split(X_val_test, y_val_test, test_size=0.5, random_state=30)"
   ]
  },
  {
   "cell_type": "code",
   "execution_count": 35,
   "metadata": {},
   "outputs": [
    {
     "data": {
      "text/plain": [
       "29079    After years of e-filing fees being included wi...\n",
       "825      Quem não gosta de samba, bom sujeito não é, é ...\n",
       "24508    I have this radio and it's a POS. Remote isn't...\n",
       "7528     Like the other user I had to use a 1x8 under t...\n",
       "17228    This was a replacement clock for one that fell...\n",
       "                               ...                        \n",
       "12770    This is the candy our two boys ask for the mos...\n",
       "4066     I've had this card for about 1 1/2 years now a...\n",
       "34844    I have found Gerber brand clothing to be disap...\n",
       "34871    These broke within the first 3 days of use. 2 ...\n",
       "18887     This was exactly what my husband had admired ...\n",
       "Name: REVIEW, Length: 3652, dtype: object"
      ]
     },
     "execution_count": 35,
     "metadata": {},
     "output_type": "execute_result"
    }
   ],
   "source": [
    "X_test"
   ]
  },
  {
   "cell_type": "markdown",
   "metadata": {
    "id": "AgOvPzgVBcvn"
   },
   "source": [
    "### Back to Pytorch"
   ]
  },
  {
   "cell_type": "markdown",
   "metadata": {
    "id": "7kuxA5xu2_mP"
   },
   "source": [
    "Problem 1: Write code for a linear regression model predicting y from both features in X (data generated below) using Pytorch with autograd to obtain gradients. Print out the learning curve."
   ]
  },
  {
   "cell_type": "code",
   "execution_count": null,
   "metadata": {
    "id": "iqXDNcB1DEbO"
   },
   "outputs": [],
   "source": [
    "import torch\n",
    "import matplotlib.pyplot as plt"
   ]
  },
  {
   "cell_type": "code",
   "execution_count": null,
   "metadata": {
    "id": "kiZCbCmtC-WO"
   },
   "outputs": [],
   "source": [
    "x=torch.tensor([[-0.6832,  0.2324, -1.2326, -0.3170,  0.3240, -1.2326, -1.5989,  0.7818,\n",
    "-0.3170,  0.2324,  1.0565,  1.4228,  1.3312],\n",
    "        [-1.5407, -1.2839, -1.0271, -0.7703, -0.5136, -0.2568,  0.0000,  0.2568,\n",
    "          0.5136,  0.7703,  1.0271,  1.2839,  1.5407]])\n",
    "y=torch.tensor([33,49,41,54,52,45,36,58,45,69,55,56,68])"
   ]
  },
  {
   "cell_type": "code",
   "execution_count": null,
   "metadata": {
    "id": "J11R66XtBu9C"
   },
   "outputs": [],
   "source": [
    "n_iters = 1000\n",
    "num_features = 3\n",
    "weights = torch.randn(num_features, requires_grad=True)\n",
    "num_samples = y.shape[0]\n",
    "linear_loss=[]\n",
    "lr=0.002\n",
    "for i in range(n_iters):\n",
    "    y_est =torch.mv(x.T,weights[0:2])+weights[2]\n",
    "    errors = y_est-y\n",
    "    loss = errors.dot(errors)/num_samples\n",
    "    linear_loss.append(loss.detach().numpy())\n",
    "\n",
    "    loss.backward()\n",
    "\n",
    "    dw1 =  weights.grad[0]\n",
    "    dw2 =  weights.grad[1]\n",
    "    db =   weights.grad[2]\n",
    "    with torch.no_grad():\n",
    "      weights[0] = weights[0] - lr * dw1\n",
    "      weights[1] = weights[1] - lr * dw2\n",
    "      weights[2] = weights[2] - lr * db\n",
    "      weights.grad=None\n",
    "\n",
    "plt.plot(range(1,n_iters),linear_loss[1:])\n",
    "plt.xlabel(\"number of epochs\")\n",
    "plt.ylabel(\"loss\")"
   ]
  },
  {
   "cell_type": "markdown",
   "metadata": {
    "id": "SCsB8Ggh3GnC"
   },
   "source": [
    "Problem 2: Rewrite your code from problem 1 so as to use the GPU for all calculations"
   ]
  },
  {
   "cell_type": "markdown",
   "metadata": {
    "id": "O_g1RViM4z__"
   },
   "source": [
    "### Pytorch Loss Functions\n",
    "Pytorch has implementations all common loss function\n",
    "\n",
    "https://pytorch.org/docs/stable/nn.html#loss-functions"
   ]
  },
  {
   "cell_type": "markdown",
   "metadata": {
    "id": "1Nf6kFXr6N4y"
   },
   "source": [
    "For example Mean Squared error loss:"
   ]
  },
  {
   "cell_type": "code",
   "execution_count": null,
   "metadata": {
    "id": "yK5RBSfR5hWC"
   },
   "outputs": [],
   "source": [
    "loss = torch.nn.MSELoss()\n",
    "estimate = torch.randn(30, requires_grad=True)\n",
    "target = torch.randn(30)\n",
    "loss(estimate, target)\n"
   ]
  },
  {
   "cell_type": "markdown",
   "metadata": {
    "id": "ZwlipP0ACWGV"
   },
   "source": [
    "Problem 3: Rewrite your code from problem 1/2 so as to use the PyTorch loss function."
   ]
  },
  {
   "cell_type": "markdown",
   "metadata": {
    "id": "t9FbSodpcJ4u"
   },
   "source": [
    "Problem 4: Implement a logistic regression with two features for this data (as used in week 7 of CL1) using Pytorch's autograd function to get weights and the appropriate Pytorch loss function.  Once you have it working try to use the GPU."
   ]
  },
  {
   "cell_type": "code",
   "execution_count": 2,
   "metadata": {
    "id": "USdyEFNWeXf6"
   },
   "outputs": [],
   "source": [
    "import numpy as np"
   ]
  },
  {
   "cell_type": "code",
   "execution_count": 8,
   "metadata": {
    "id": "lWCveB_WcmLH"
   },
   "outputs": [],
   "source": [
    "## Create simulated data\n",
    "np.random.seed(10)\n",
    "w1_center = (2, 3)\n",
    "w2_center = (3, 2)\n",
    "batch_size=50\n",
    "\n",
    "x = np.zeros((batch_size, 2))\n",
    "y = np.zeros(batch_size)\n",
    "for i in range(batch_size):\n",
    "    if np.random.random() > 0.5:\n",
    "        x[i] = np.random.normal(loc=w1_center)\n",
    "    else:\n",
    "        x[i] = np.random.normal(loc=w2_center)\n",
    "        y[i] = 1\n",
    "\n",
    "x=torch.tensor(x.T)\n",
    "y=torch.tensor(y)"
   ]
  },
  {
   "cell_type": "markdown",
   "metadata": {
    "id": "sbGRPCY6bWzM"
   },
   "source": [
    "Next time we'll look at how to use Pytorch to a) specify your forward pass, and b) perform weight updating."
   ]
  }
 ],
 "metadata": {
  "colab": {
   "provenance": []
  },
  "kernelspec": {
   "display_name": "Python 3 (ipykernel)",
   "language": "python",
   "name": "python3"
  },
  "language_info": {
   "codemirror_mode": {
    "name": "ipython",
    "version": 3
   },
   "file_extension": ".py",
   "mimetype": "text/x-python",
   "name": "python",
   "nbconvert_exporter": "python",
   "pygments_lexer": "ipython3",
   "version": "3.12.4"
  }
 },
 "nbformat": 4,
 "nbformat_minor": 4
}
